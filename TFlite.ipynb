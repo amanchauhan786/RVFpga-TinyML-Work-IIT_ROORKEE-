{
  "cells": [
    {
      "cell_type": "markdown",
      "metadata": {
        "id": "view-in-github",
        "colab_type": "text"
      },
      "source": [
        "<a href=\"https://colab.research.google.com/github/amanchauhan786/RVFpga-TinyML-Work-IIT_ROORKEE-/blob/main/TFlite.ipynb\" target=\"_parent\"><img src=\"https://colab.research.google.com/assets/colab-badge.svg\" alt=\"Open In Colab\"/></a>"
      ]
    },
    {
      "cell_type": "code",
      "execution_count": null,
      "metadata": {
        "colab": {
          "background_save": true,
          "base_uri": "https://localhost:8080/",
          "height": 90
        },
        "id": "zlhlIPH_bvNa",
        "outputId": "f8ab364e-d523-4670-99d9-5b3dbc366ecb"
      },
      "outputs": [
        {
          "name": "stdout",
          "output_type": "stream",
          "text": [
            "TensorFlow version: 2.18.0\n"
          ]
        },
        {
          "data": {
            "text/html": [
              "\n",
              "     <input type=\"file\" id=\"files-d79bbcdb-7594-468c-a8ae-e5bb755b39f4\" name=\"files[]\" multiple disabled\n",
              "        style=\"border:none\" />\n",
              "     <output id=\"result-d79bbcdb-7594-468c-a8ae-e5bb755b39f4\">\n",
              "      Upload widget is only available when the cell has been executed in the\n",
              "      current browser session. Please rerun this cell to enable.\n",
              "      </output>\n",
              "      <script>// Copyright 2017 Google LLC\n",
              "//\n",
              "// Licensed under the Apache License, Version 2.0 (the \"License\");\n",
              "// you may not use this file except in compliance with the License.\n",
              "// You may obtain a copy of the License at\n",
              "//\n",
              "//      http://www.apache.org/licenses/LICENSE-2.0\n",
              "//\n",
              "// Unless required by applicable law or agreed to in writing, software\n",
              "// distributed under the License is distributed on an \"AS IS\" BASIS,\n",
              "// WITHOUT WARRANTIES OR CONDITIONS OF ANY KIND, either express or implied.\n",
              "// See the License for the specific language governing permissions and\n",
              "// limitations under the License.\n",
              "\n",
              "/**\n",
              " * @fileoverview Helpers for google.colab Python module.\n",
              " */\n",
              "(function(scope) {\n",
              "function span(text, styleAttributes = {}) {\n",
              "  const element = document.createElement('span');\n",
              "  element.textContent = text;\n",
              "  for (const key of Object.keys(styleAttributes)) {\n",
              "    element.style[key] = styleAttributes[key];\n",
              "  }\n",
              "  return element;\n",
              "}\n",
              "\n",
              "// Max number of bytes which will be uploaded at a time.\n",
              "const MAX_PAYLOAD_SIZE = 100 * 1024;\n",
              "\n",
              "function _uploadFiles(inputId, outputId) {\n",
              "  const steps = uploadFilesStep(inputId, outputId);\n",
              "  const outputElement = document.getElementById(outputId);\n",
              "  // Cache steps on the outputElement to make it available for the next call\n",
              "  // to uploadFilesContinue from Python.\n",
              "  outputElement.steps = steps;\n",
              "\n",
              "  return _uploadFilesContinue(outputId);\n",
              "}\n",
              "\n",
              "// This is roughly an async generator (not supported in the browser yet),\n",
              "// where there are multiple asynchronous steps and the Python side is going\n",
              "// to poll for completion of each step.\n",
              "// This uses a Promise to block the python side on completion of each step,\n",
              "// then passes the result of the previous step as the input to the next step.\n",
              "function _uploadFilesContinue(outputId) {\n",
              "  const outputElement = document.getElementById(outputId);\n",
              "  const steps = outputElement.steps;\n",
              "\n",
              "  const next = steps.next(outputElement.lastPromiseValue);\n",
              "  return Promise.resolve(next.value.promise).then((value) => {\n",
              "    // Cache the last promise value to make it available to the next\n",
              "    // step of the generator.\n",
              "    outputElement.lastPromiseValue = value;\n",
              "    return next.value.response;\n",
              "  });\n",
              "}\n",
              "\n",
              "/**\n",
              " * Generator function which is called between each async step of the upload\n",
              " * process.\n",
              " * @param {string} inputId Element ID of the input file picker element.\n",
              " * @param {string} outputId Element ID of the output display.\n",
              " * @return {!Iterable<!Object>} Iterable of next steps.\n",
              " */\n",
              "function* uploadFilesStep(inputId, outputId) {\n",
              "  const inputElement = document.getElementById(inputId);\n",
              "  inputElement.disabled = false;\n",
              "\n",
              "  const outputElement = document.getElementById(outputId);\n",
              "  outputElement.innerHTML = '';\n",
              "\n",
              "  const pickedPromise = new Promise((resolve) => {\n",
              "    inputElement.addEventListener('change', (e) => {\n",
              "      resolve(e.target.files);\n",
              "    });\n",
              "  });\n",
              "\n",
              "  const cancel = document.createElement('button');\n",
              "  inputElement.parentElement.appendChild(cancel);\n",
              "  cancel.textContent = 'Cancel upload';\n",
              "  const cancelPromise = new Promise((resolve) => {\n",
              "    cancel.onclick = () => {\n",
              "      resolve(null);\n",
              "    };\n",
              "  });\n",
              "\n",
              "  // Wait for the user to pick the files.\n",
              "  const files = yield {\n",
              "    promise: Promise.race([pickedPromise, cancelPromise]),\n",
              "    response: {\n",
              "      action: 'starting',\n",
              "    }\n",
              "  };\n",
              "\n",
              "  cancel.remove();\n",
              "\n",
              "  // Disable the input element since further picks are not allowed.\n",
              "  inputElement.disabled = true;\n",
              "\n",
              "  if (!files) {\n",
              "    return {\n",
              "      response: {\n",
              "        action: 'complete',\n",
              "      }\n",
              "    };\n",
              "  }\n",
              "\n",
              "  for (const file of files) {\n",
              "    const li = document.createElement('li');\n",
              "    li.append(span(file.name, {fontWeight: 'bold'}));\n",
              "    li.append(span(\n",
              "        `(${file.type || 'n/a'}) - ${file.size} bytes, ` +\n",
              "        `last modified: ${\n",
              "            file.lastModifiedDate ? file.lastModifiedDate.toLocaleDateString() :\n",
              "                                    'n/a'} - `));\n",
              "    const percent = span('0% done');\n",
              "    li.appendChild(percent);\n",
              "\n",
              "    outputElement.appendChild(li);\n",
              "\n",
              "    const fileDataPromise = new Promise((resolve) => {\n",
              "      const reader = new FileReader();\n",
              "      reader.onload = (e) => {\n",
              "        resolve(e.target.result);\n",
              "      };\n",
              "      reader.readAsArrayBuffer(file);\n",
              "    });\n",
              "    // Wait for the data to be ready.\n",
              "    let fileData = yield {\n",
              "      promise: fileDataPromise,\n",
              "      response: {\n",
              "        action: 'continue',\n",
              "      }\n",
              "    };\n",
              "\n",
              "    // Use a chunked sending to avoid message size limits. See b/62115660.\n",
              "    let position = 0;\n",
              "    do {\n",
              "      const length = Math.min(fileData.byteLength - position, MAX_PAYLOAD_SIZE);\n",
              "      const chunk = new Uint8Array(fileData, position, length);\n",
              "      position += length;\n",
              "\n",
              "      const base64 = btoa(String.fromCharCode.apply(null, chunk));\n",
              "      yield {\n",
              "        response: {\n",
              "          action: 'append',\n",
              "          file: file.name,\n",
              "          data: base64,\n",
              "        },\n",
              "      };\n",
              "\n",
              "      let percentDone = fileData.byteLength === 0 ?\n",
              "          100 :\n",
              "          Math.round((position / fileData.byteLength) * 100);\n",
              "      percent.textContent = `${percentDone}% done`;\n",
              "\n",
              "    } while (position < fileData.byteLength);\n",
              "  }\n",
              "\n",
              "  // All done.\n",
              "  yield {\n",
              "    response: {\n",
              "      action: 'complete',\n",
              "    }\n",
              "  };\n",
              "}\n",
              "\n",
              "scope.google = scope.google || {};\n",
              "scope.google.colab = scope.google.colab || {};\n",
              "scope.google.colab._files = {\n",
              "  _uploadFiles,\n",
              "  _uploadFilesContinue,\n",
              "};\n",
              "})(self);\n",
              "</script> "
            ],
            "text/plain": [
              "<IPython.core.display.HTML object>"
            ]
          },
          "metadata": {},
          "output_type": "display_data"
        },
        {
          "ename": "TypeError",
          "evalue": "'NoneType' object is not subscriptable",
          "output_type": "error",
          "traceback": [
            "\u001b[0;31m---------------------------------------------------------------------------\u001b[0m",
            "\u001b[0;31mTypeError\u001b[0m                                 Traceback (most recent call last)",
            "\u001b[0;32m/tmp/ipython-input-1-2497172470.py\u001b[0m in \u001b[0;36m<cell line: 0>\u001b[0;34m()\u001b[0m\n\u001b[1;32m     13\u001b[0m \u001b[0;31m# For Google Colab: Upload your CSV file\u001b[0m\u001b[0;34m\u001b[0m\u001b[0;34m\u001b[0m\u001b[0m\n\u001b[1;32m     14\u001b[0m \u001b[0;32mfrom\u001b[0m \u001b[0mgoogle\u001b[0m\u001b[0;34m.\u001b[0m\u001b[0mcolab\u001b[0m \u001b[0;32mimport\u001b[0m \u001b[0mfiles\u001b[0m\u001b[0;34m\u001b[0m\u001b[0;34m\u001b[0m\u001b[0m\n\u001b[0;32m---> 15\u001b[0;31m \u001b[0muploaded\u001b[0m \u001b[0;34m=\u001b[0m \u001b[0mfiles\u001b[0m\u001b[0;34m.\u001b[0m\u001b[0mupload\u001b[0m\u001b[0;34m(\u001b[0m\u001b[0;34m)\u001b[0m  \u001b[0;31m# Choose your \"data.csv\" file here\u001b[0m\u001b[0;34m\u001b[0m\u001b[0;34m\u001b[0m\u001b[0m\n\u001b[0m",
            "\u001b[0;32m/usr/local/lib/python3.11/dist-packages/google/colab/files.py\u001b[0m in \u001b[0;36mupload\u001b[0;34m(target_dir)\u001b[0m\n\u001b[1;32m     70\u001b[0m   \"\"\"\n\u001b[1;32m     71\u001b[0m \u001b[0;34m\u001b[0m\u001b[0m\n\u001b[0;32m---> 72\u001b[0;31m   \u001b[0muploaded_files\u001b[0m \u001b[0;34m=\u001b[0m \u001b[0m_upload_files\u001b[0m\u001b[0;34m(\u001b[0m\u001b[0mmultiple\u001b[0m\u001b[0;34m=\u001b[0m\u001b[0;32mTrue\u001b[0m\u001b[0;34m)\u001b[0m\u001b[0;34m\u001b[0m\u001b[0;34m\u001b[0m\u001b[0m\n\u001b[0m\u001b[1;32m     73\u001b[0m   \u001b[0;31m# Mapping from original filename to filename as saved locally.\u001b[0m\u001b[0;34m\u001b[0m\u001b[0;34m\u001b[0m\u001b[0m\n\u001b[1;32m     74\u001b[0m   \u001b[0mlocal_filenames\u001b[0m \u001b[0;34m=\u001b[0m \u001b[0mdict\u001b[0m\u001b[0;34m(\u001b[0m\u001b[0;34m)\u001b[0m\u001b[0;34m\u001b[0m\u001b[0;34m\u001b[0m\u001b[0m\n",
            "\u001b[0;32m/usr/local/lib/python3.11/dist-packages/google/colab/files.py\u001b[0m in \u001b[0;36m_upload_files\u001b[0;34m(multiple)\u001b[0m\n\u001b[1;32m    169\u001b[0m   \u001b[0mfiles\u001b[0m \u001b[0;34m=\u001b[0m \u001b[0m_collections\u001b[0m\u001b[0;34m.\u001b[0m\u001b[0mdefaultdict\u001b[0m\u001b[0;34m(\u001b[0m\u001b[0mbytes\u001b[0m\u001b[0;34m)\u001b[0m\u001b[0;34m\u001b[0m\u001b[0;34m\u001b[0m\u001b[0m\n\u001b[1;32m    170\u001b[0m \u001b[0;34m\u001b[0m\u001b[0m\n\u001b[0;32m--> 171\u001b[0;31m   \u001b[0;32mwhile\u001b[0m \u001b[0mresult\u001b[0m\u001b[0;34m[\u001b[0m\u001b[0;34m'action'\u001b[0m\u001b[0;34m]\u001b[0m \u001b[0;34m!=\u001b[0m \u001b[0;34m'complete'\u001b[0m\u001b[0;34m:\u001b[0m\u001b[0;34m\u001b[0m\u001b[0;34m\u001b[0m\u001b[0m\n\u001b[0m\u001b[1;32m    172\u001b[0m     result = _output.eval_js(\n\u001b[1;32m    173\u001b[0m         'google.colab._files._uploadFilesContinue(\"{output_id}\")'.format(\n",
            "\u001b[0;31mTypeError\u001b[0m: 'NoneType' object is not subscriptable"
          ]
        }
      ],
      "source": [
        "# Install (if needed) and import required libraries\n",
        "import os\n",
        "import time\n",
        "import numpy as np\n",
        "import pandas as pd\n",
        "import tensorflow as tf\n",
        "from sklearn.model_selection import train_test_split\n",
        "from sklearn.preprocessing import MinMaxScaler\n",
        "from sklearn.metrics import accuracy_score\n",
        "\n",
        "print(\"TensorFlow version:\", tf.__version__)\n",
        "\n",
        "# For Google Colab: Upload your CSV file\n",
        "from google.colab import files\n",
        "uploaded = files.upload()  # Choose your \"data.csv\" file here\n"
      ]
    },
    {
      "cell_type": "code",
      "execution_count": null,
      "metadata": {
        "id": "4GGq_YzFcdV-"
      },
      "outputs": [],
      "source": [
        "# Load your data\n",
        "df = pd.read_csv(\"data.csv\")\n",
        "\n",
        "# Select features and labels\n",
        "X = df[['temperature', 'humidity']].values\n",
        "y = df['label'].values\n",
        "\n",
        "# Scale features to [0, 1]\n",
        "scaler = MinMaxScaler()\n",
        "X_scaled = scaler.fit_transform(X)\n",
        "\n",
        "# Split: 15% test, 15% validation, 70% train\n",
        "X_temp, X_test, y_temp, y_test = train_test_split(\n",
        "    X_scaled, y, test_size=0.15, random_state=42\n",
        ")\n",
        "X_train, X_val, y_train, y_val = train_test_split(\n",
        "    X_temp, y_temp, test_size=0.1765, random_state=42\n",
        ")  # 0.1765 * 0.85 ≈ 0.15\n"
      ]
    },
    {
      "cell_type": "code",
      "execution_count": null,
      "metadata": {
        "colab": {
          "base_uri": "https://localhost:8080/"
        },
        "id": "fb1pvel6cfV7",
        "outputId": "c5670035-88ac-4859-e97e-5abc7da7fecd"
      },
      "outputs": [
        {
          "name": "stdout",
          "output_type": "stream",
          "text": [
            "Epoch 1/30\n",
            "44/44 - 5s - 109ms/step - accuracy: 0.4814 - loss: 0.6995 - val_accuracy: 0.8553 - val_loss: 0.6672\n",
            "Epoch 2/30\n",
            "44/44 - 1s - 11ms/step - accuracy: 0.8367 - loss: 0.6500 - val_accuracy: 0.8421 - val_loss: 0.6310\n",
            "Epoch 3/30\n",
            "44/44 - 1s - 13ms/step - accuracy: 0.8166 - loss: 0.6188 - val_accuracy: 0.8421 - val_loss: 0.5969\n",
            "Epoch 4/30\n",
            "44/44 - 0s - 10ms/step - accuracy: 0.8138 - loss: 0.5838 - val_accuracy: 0.8421 - val_loss: 0.5559\n",
            "Epoch 5/30\n",
            "44/44 - 0s - 7ms/step - accuracy: 0.8109 - loss: 0.5457 - val_accuracy: 0.8421 - val_loss: 0.5163\n",
            "Epoch 6/30\n",
            "44/44 - 1s - 15ms/step - accuracy: 0.8080 - loss: 0.5150 - val_accuracy: 0.8289 - val_loss: 0.4853\n",
            "Epoch 7/30\n",
            "44/44 - 1s - 19ms/step - accuracy: 0.8052 - loss: 0.4922 - val_accuracy: 0.8289 - val_loss: 0.4639\n",
            "Epoch 8/30\n",
            "44/44 - 0s - 9ms/step - accuracy: 0.8080 - loss: 0.4765 - val_accuracy: 0.8289 - val_loss: 0.4493\n",
            "Epoch 9/30\n",
            "44/44 - 1s - 17ms/step - accuracy: 0.8080 - loss: 0.4660 - val_accuracy: 0.8421 - val_loss: 0.4408\n",
            "Epoch 10/30\n",
            "44/44 - 0s - 5ms/step - accuracy: 0.8109 - loss: 0.4581 - val_accuracy: 0.8421 - val_loss: 0.4330\n",
            "Epoch 11/30\n",
            "44/44 - 0s - 7ms/step - accuracy: 0.8109 - loss: 0.4510 - val_accuracy: 0.8421 - val_loss: 0.4276\n",
            "Epoch 12/30\n",
            "44/44 - 0s - 7ms/step - accuracy: 0.8166 - loss: 0.4439 - val_accuracy: 0.8421 - val_loss: 0.4221\n",
            "Epoch 13/30\n",
            "44/44 - 0s - 6ms/step - accuracy: 0.8309 - loss: 0.4376 - val_accuracy: 0.8421 - val_loss: 0.4154\n",
            "Epoch 14/30\n",
            "44/44 - 0s - 4ms/step - accuracy: 0.8338 - loss: 0.4316 - val_accuracy: 0.8421 - val_loss: 0.4108\n",
            "Epoch 15/30\n",
            "44/44 - 0s - 8ms/step - accuracy: 0.8338 - loss: 0.4256 - val_accuracy: 0.8421 - val_loss: 0.4064\n",
            "Epoch 16/30\n",
            "44/44 - 0s - 5ms/step - accuracy: 0.8395 - loss: 0.4198 - val_accuracy: 0.8421 - val_loss: 0.4012\n",
            "Epoch 17/30\n",
            "44/44 - 0s - 5ms/step - accuracy: 0.8395 - loss: 0.4133 - val_accuracy: 0.8421 - val_loss: 0.3992\n",
            "Epoch 18/30\n",
            "44/44 - 0s - 4ms/step - accuracy: 0.8453 - loss: 0.4079 - val_accuracy: 0.8421 - val_loss: 0.3925\n",
            "Epoch 19/30\n",
            "44/44 - 0s - 7ms/step - accuracy: 0.8481 - loss: 0.4029 - val_accuracy: 0.8421 - val_loss: 0.3899\n",
            "Epoch 20/30\n",
            "44/44 - 0s - 9ms/step - accuracy: 0.8567 - loss: 0.3980 - val_accuracy: 0.8553 - val_loss: 0.3851\n",
            "Epoch 21/30\n",
            "44/44 - 0s - 5ms/step - accuracy: 0.8625 - loss: 0.3927 - val_accuracy: 0.8553 - val_loss: 0.3802\n",
            "Epoch 22/30\n",
            "44/44 - 0s - 7ms/step - accuracy: 0.8653 - loss: 0.3879 - val_accuracy: 0.8553 - val_loss: 0.3785\n",
            "Epoch 23/30\n",
            "44/44 - 0s - 7ms/step - accuracy: 0.8682 - loss: 0.3853 - val_accuracy: 0.8553 - val_loss: 0.3753\n",
            "Epoch 24/30\n",
            "44/44 - 0s - 4ms/step - accuracy: 0.8682 - loss: 0.3790 - val_accuracy: 0.8553 - val_loss: 0.3690\n",
            "Epoch 25/30\n",
            "44/44 - 0s - 9ms/step - accuracy: 0.8768 - loss: 0.3758 - val_accuracy: 0.8684 - val_loss: 0.3658\n",
            "Epoch 26/30\n",
            "44/44 - 1s - 15ms/step - accuracy: 0.8797 - loss: 0.3713 - val_accuracy: 0.8684 - val_loss: 0.3626\n",
            "Epoch 27/30\n",
            "44/44 - 1s - 12ms/step - accuracy: 0.8797 - loss: 0.3676 - val_accuracy: 0.8816 - val_loss: 0.3592\n",
            "Epoch 28/30\n",
            "44/44 - 0s - 9ms/step - accuracy: 0.8797 - loss: 0.3637 - val_accuracy: 0.8816 - val_loss: 0.3574\n",
            "Epoch 29/30\n",
            "44/44 - 0s - 7ms/step - accuracy: 0.8797 - loss: 0.3600 - val_accuracy: 0.8947 - val_loss: 0.3535\n",
            "Epoch 30/30\n",
            "44/44 - 0s - 4ms/step - accuracy: 0.8797 - loss: 0.3566 - val_accuracy: 0.8947 - val_loss: 0.3512\n"
          ]
        }
      ],
      "source": [
        "# Build a simple neural network\n",
        "model = tf.keras.Sequential([\n",
        "    tf.keras.layers.Input(shape=(2,)),\n",
        "    tf.keras.layers.Dense(8, activation='relu'),\n",
        "    tf.keras.layers.Dense(4, activation='relu'),\n",
        "    tf.keras.layers.Dense(1, activation='sigmoid')\n",
        "])\n",
        "\n",
        "# Compile the model\n",
        "model.compile(optimizer='adam',\n",
        "              loss='binary_crossentropy',\n",
        "              metrics=['accuracy'])\n",
        "\n",
        "# Train the model\n",
        "history = model.fit(\n",
        "    X_train, y_train,\n",
        "    epochs=30, batch_size=8,\n",
        "    validation_data=(X_val, y_val),\n",
        "    verbose=2\n",
        ")\n"
      ]
    },
    {
      "cell_type": "code",
      "execution_count": null,
      "metadata": {
        "colab": {
          "base_uri": "https://localhost:8080/"
        },
        "id": "sERXv_mpcmRO",
        "outputId": "dc97ab52-7853-41c0-c94a-827dc7ad5576"
      },
      "outputs": [
        {
          "name": "stdout",
          "output_type": "stream",
          "text": [
            "\n",
            "✅ Validation Accuracy: 89.47%\n",
            "✅ Test Accuracy: 88.00%\n"
          ]
        }
      ],
      "source": [
        "# Evaluate on validation and test sets\n",
        "val_loss, val_acc = model.evaluate(X_val, y_val, verbose=0)\n",
        "print(f\"\\n✅ Validation Accuracy: {val_acc * 100:.2f}%\")\n",
        "test_loss, test_acc = model.evaluate(X_test, y_test, verbose=0)\n",
        "print(f\"✅ Test Accuracy: {test_acc * 100:.2f}%\")\n"
      ]
    },
    {
      "cell_type": "code",
      "execution_count": null,
      "metadata": {
        "colab": {
          "base_uri": "https://localhost:8080/"
        },
        "id": "npivxH_WcpH7",
        "outputId": "543beba3-11dd-48b3-c477-81326aa1c77a"
      },
      "outputs": [
        {
          "name": "stderr",
          "output_type": "stream",
          "text": [
            "WARNING:absl:You are saving your model as an HDF5 file via `model.save()` or `keras.saving.save_model(model)`. This file format is considered legacy. We recommend using instead the native Keras format, e.g. `model.save('my_model.keras')` or `keras.saving.save_model(model, 'my_model.keras')`. \n"
          ]
        }
      ],
      "source": [
        "# Save the trained Keras model\n",
        "model.save(\"base_model.h5\")\n"
      ]
    },
    {
      "cell_type": "code",
      "execution_count": null,
      "metadata": {
        "colab": {
          "base_uri": "https://localhost:8080/"
        },
        "id": "HhNSOtqccrnB",
        "outputId": "09bcf4c4-c96e-4576-f030-f9928ba64fe4"
      },
      "outputs": [
        {
          "name": "stdout",
          "output_type": "stream",
          "text": [
            "Saved artifact at '/tmp/tmprnu8gp5u'. The following endpoints are available:\n",
            "\n",
            "* Endpoint 'serve'\n",
            "  args_0 (POSITIONAL_ONLY): TensorSpec(shape=(None, 2), dtype=tf.float32, name='keras_tensor')\n",
            "Output Type:\n",
            "  TensorSpec(shape=(None, 1), dtype=tf.float32, name=None)\n",
            "Captures:\n",
            "  136423988629328: TensorSpec(shape=(), dtype=tf.resource, name=None)\n",
            "  136423988632784: TensorSpec(shape=(), dtype=tf.resource, name=None)\n",
            "  136423988634512: TensorSpec(shape=(), dtype=tf.resource, name=None)\n",
            "  136423988632208: TensorSpec(shape=(), dtype=tf.resource, name=None)\n",
            "  136423988634704: TensorSpec(shape=(), dtype=tf.resource, name=None)\n",
            "  136423988630096: TensorSpec(shape=(), dtype=tf.resource, name=None)\n",
            "✅ Saved float TFLite model as: anomaly_model.tflite\n",
            "Saved artifact at '/tmp/tmpn5pl2xhq'. The following endpoints are available:\n",
            "\n",
            "* Endpoint 'serve'\n",
            "  args_0 (POSITIONAL_ONLY): TensorSpec(shape=(None, 2), dtype=tf.float32, name='keras_tensor')\n",
            "Output Type:\n",
            "  TensorSpec(shape=(None, 1), dtype=tf.float32, name=None)\n",
            "Captures:\n",
            "  136423988629328: TensorSpec(shape=(), dtype=tf.resource, name=None)\n",
            "  136423988632784: TensorSpec(shape=(), dtype=tf.resource, name=None)\n",
            "  136423988634512: TensorSpec(shape=(), dtype=tf.resource, name=None)\n",
            "  136423988632208: TensorSpec(shape=(), dtype=tf.resource, name=None)\n",
            "  136423988634704: TensorSpec(shape=(), dtype=tf.resource, name=None)\n",
            "  136423988630096: TensorSpec(shape=(), dtype=tf.resource, name=None)\n"
          ]
        },
        {
          "name": "stderr",
          "output_type": "stream",
          "text": [
            "/usr/local/lib/python3.11/dist-packages/tensorflow/lite/python/convert.py:997: UserWarning: Statistics for quantized inputs were expected, but not specified; continuing anyway.\n",
            "  warnings.warn(\n"
          ]
        },
        {
          "name": "stdout",
          "output_type": "stream",
          "text": [
            "✅ Saved quantized TFLite model as: quant.tflite\n"
          ]
        }
      ],
      "source": [
        "# FLOAT TFLite model\n",
        "float_tflite_path = \"anomaly_model.tflite\"\n",
        "converter = tf.lite.TFLiteConverter.from_keras_model(model)\n",
        "tflite_model = converter.convert()\n",
        "with open(float_tflite_path, \"wb\") as f:\n",
        "    f.write(tflite_model)\n",
        "print(f\"✅ Saved float TFLite model as: {float_tflite_path}\")\n",
        "\n",
        "# INT8 Quantized TFLite model\n",
        "quant_tflite_path = \"quant.tflite\"\n",
        "converter = tf.lite.TFLiteConverter.from_keras_model(model)\n",
        "converter.optimizations = [tf.lite.Optimize.DEFAULT]\n",
        "def rep_data_gen():\n",
        "    for sample in X_train.astype(np.float32):\n",
        "        yield [sample.reshape(1, 2)]\n",
        "converter.representative_dataset = rep_data_gen\n",
        "converter.target_spec.supported_ops = [tf.lite.OpsSet.TFLITE_BUILTINS_INT8]\n",
        "converter.inference_input_type = tf.int8\n",
        "converter.inference_output_type = tf.int8\n",
        "quant_model = converter.convert()\n",
        "with open(quant_tflite_path, \"wb\") as f:\n",
        "    f.write(quant_model)\n",
        "print(f\"✅ Saved quantized TFLite model as: {quant_tflite_path}\")\n"
      ]
    },
    {
      "cell_type": "code",
      "execution_count": null,
      "metadata": {
        "colab": {
          "base_uri": "https://localhost:8080/"
        },
        "id": "JBIT60fwdkTF",
        "outputId": "675b6656-7525-4f23-8d77-8be61e449353"
      },
      "outputs": [
        {
          "name": "stdout",
          "output_type": "stream",
          "text": [
            "✅ Both TFLite models exist.\n"
          ]
        }
      ],
      "source": [
        "assert os.path.exists(float_tflite_path), \"❌ anomaly_model.tflite was not created!\"\n",
        "assert os.path.exists(quant_tflite_path), \"❌ quant.tflite was not created!\"\n",
        "print(\"✅ Both TFLite models exist.\")\n"
      ]
    },
    {
      "cell_type": "code",
      "execution_count": null,
      "metadata": {
        "colab": {
          "base_uri": "https://localhost:8080/",
          "height": 17
        },
        "id": "gk_uKHogdn3u",
        "outputId": "fc56c1f3-8de6-4e5a-9822-ed2aedc38829"
      },
      "outputs": [
        {
          "data": {
            "application/javascript": [
              "\n",
              "    async function download(id, filename, size) {\n",
              "      if (!google.colab.kernel.accessAllowed) {\n",
              "        return;\n",
              "      }\n",
              "      const div = document.createElement('div');\n",
              "      const label = document.createElement('label');\n",
              "      label.textContent = `Downloading \"${filename}\": `;\n",
              "      div.appendChild(label);\n",
              "      const progress = document.createElement('progress');\n",
              "      progress.max = size;\n",
              "      div.appendChild(progress);\n",
              "      document.body.appendChild(div);\n",
              "\n",
              "      const buffers = [];\n",
              "      let downloaded = 0;\n",
              "\n",
              "      const channel = await google.colab.kernel.comms.open(id);\n",
              "      // Send a message to notify the kernel that we're ready.\n",
              "      channel.send({})\n",
              "\n",
              "      for await (const message of channel.messages) {\n",
              "        // Send a message to notify the kernel that we're ready.\n",
              "        channel.send({})\n",
              "        if (message.buffers) {\n",
              "          for (const buffer of message.buffers) {\n",
              "            buffers.push(buffer);\n",
              "            downloaded += buffer.byteLength;\n",
              "            progress.value = downloaded;\n",
              "          }\n",
              "        }\n",
              "      }\n",
              "      const blob = new Blob(buffers, {type: 'application/binary'});\n",
              "      const a = document.createElement('a');\n",
              "      a.href = window.URL.createObjectURL(blob);\n",
              "      a.download = filename;\n",
              "      div.appendChild(a);\n",
              "      a.click();\n",
              "      div.remove();\n",
              "    }\n",
              "  "
            ],
            "text/plain": [
              "<IPython.core.display.Javascript object>"
            ]
          },
          "metadata": {},
          "output_type": "display_data"
        },
        {
          "data": {
            "application/javascript": [
              "download(\"download_7c1fd1fe-26a8-46ef-9050-76de18b6ba61\", \"anomaly_model.tflite\", 2328)"
            ],
            "text/plain": [
              "<IPython.core.display.Javascript object>"
            ]
          },
          "metadata": {},
          "output_type": "display_data"
        },
        {
          "data": {
            "application/javascript": [
              "\n",
              "    async function download(id, filename, size) {\n",
              "      if (!google.colab.kernel.accessAllowed) {\n",
              "        return;\n",
              "      }\n",
              "      const div = document.createElement('div');\n",
              "      const label = document.createElement('label');\n",
              "      label.textContent = `Downloading \"${filename}\": `;\n",
              "      div.appendChild(label);\n",
              "      const progress = document.createElement('progress');\n",
              "      progress.max = size;\n",
              "      div.appendChild(progress);\n",
              "      document.body.appendChild(div);\n",
              "\n",
              "      const buffers = [];\n",
              "      let downloaded = 0;\n",
              "\n",
              "      const channel = await google.colab.kernel.comms.open(id);\n",
              "      // Send a message to notify the kernel that we're ready.\n",
              "      channel.send({})\n",
              "\n",
              "      for await (const message of channel.messages) {\n",
              "        // Send a message to notify the kernel that we're ready.\n",
              "        channel.send({})\n",
              "        if (message.buffers) {\n",
              "          for (const buffer of message.buffers) {\n",
              "            buffers.push(buffer);\n",
              "            downloaded += buffer.byteLength;\n",
              "            progress.value = downloaded;\n",
              "          }\n",
              "        }\n",
              "      }\n",
              "      const blob = new Blob(buffers, {type: 'application/binary'});\n",
              "      const a = document.createElement('a');\n",
              "      a.href = window.URL.createObjectURL(blob);\n",
              "      a.download = filename;\n",
              "      div.appendChild(a);\n",
              "      a.click();\n",
              "      div.remove();\n",
              "    }\n",
              "  "
            ],
            "text/plain": [
              "<IPython.core.display.Javascript object>"
            ]
          },
          "metadata": {},
          "output_type": "display_data"
        },
        {
          "data": {
            "application/javascript": [
              "download(\"download_3b55aad8-c162-419b-8d1d-e6ddc12b3d45\", \"quant.tflite\", 2816)"
            ],
            "text/plain": [
              "<IPython.core.display.Javascript object>"
            ]
          },
          "metadata": {},
          "output_type": "display_data"
        }
      ],
      "source": [
        "# Only for Colab users\n",
        "try:\n",
        "    from google.colab import files\n",
        "    files.download(float_tflite_path)\n",
        "    files.download(quant_tflite_path)\n",
        "except Exception as e:\n",
        "    print(\"Download not available (not in Colab or file not found).\")\n"
      ]
    },
    {
      "cell_type": "code",
      "execution_count": null,
      "metadata": {
        "colab": {
          "base_uri": "https://localhost:8080/"
        },
        "id": "_C8PKv1LdtIY",
        "outputId": "ea274062-ce39-4980-a30d-a1176fd41252"
      },
      "outputs": [
        {
          "name": "stdout",
          "output_type": "stream",
          "text": [
            "✅ TFLite Model Test Accuracy: 88.00%\n"
          ]
        }
      ],
      "source": [
        "# Test float TFLite model on test data\n",
        "interpreter = tf.lite.Interpreter(model_path=float_tflite_path)\n",
        "interpreter.allocate_tensors()\n",
        "input_details = interpreter.get_input_details()\n",
        "output_details = interpreter.get_output_details()\n",
        "\n",
        "y_pred = []\n",
        "for sample in X_test:\n",
        "    inp = np.array([sample], dtype=np.float32)\n",
        "    interpreter.set_tensor(input_details[0]['index'], inp)\n",
        "    interpreter.invoke()\n",
        "    out = interpreter.get_tensor(output_details[0]['index'])[0][0]\n",
        "    y_pred.append(1 if out > 0.5 else 0)\n",
        "\n",
        "acc = accuracy_score(y_test, y_pred)\n",
        "print(f\"✅ TFLite Model Test Accuracy: {acc * 100:.2f}%\")\n"
      ]
    },
    {
      "cell_type": "code",
      "execution_count": null,
      "metadata": {
        "id": "9DGa_BDddvCR"
      },
      "outputs": [],
      "source": []
    }
  ],
  "metadata": {
    "colab": {
      "provenance": [],
      "authorship_tag": "ABX9TyMpV4JJ15mfXSrCacR4Tn+P",
      "include_colab_link": true
    },
    "kernelspec": {
      "display_name": "Python 3",
      "name": "python3"
    },
    "language_info": {
      "name": "python"
    }
  },
  "nbformat": 4,
  "nbformat_minor": 0
}